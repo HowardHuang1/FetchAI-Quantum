{
 "cells": [
  {
   "cell_type": "code",
   "execution_count": 30,
   "metadata": {},
   "outputs": [],
   "source": [
    "# Step 1: Imports\n",
    "import pennylane as qml\n",
    "import numpy as np\n",
    "import jax\n",
    "from jax import numpy as jnp\n",
    "from pennylane import qchem\n",
    "import time\n",
    "\n",
    "jax.config.update(\"jax_enable_x64\", True)\n",
    "\n",
    "# Step 2: Define symbols and geometry\n",
    "symbols = [\"Li\", \"H\"]\n",
    "geometry = np.array([[0.0, 0.0, 0.0], [0.0, 0.0, 2.969280527]])\n"
   ]
  },
  {
   "cell_type": "code",
   "execution_count": 31,
   "metadata": {},
   "outputs": [
    {
     "name": "stdout",
     "output_type": "stream",
     "text": [
      "Total number of excitations = 24\n"
     ]
    }
   ],
   "source": [
    "\n",
    "# Step 3: Build Hamiltonian (fixed to pass symbols, geometry separately)\n",
    "H, qubits = qchem.molecular_hamiltonian(\n",
    "    symbols,\n",
    "    geometry,\n",
    "    active_electrons=2,\n",
    "    active_orbitals=5\n",
    ")\n",
    "\n",
    "# Step 4: Get excitations\n",
    "active_electrons = 2\n",
    "singles, doubles = qchem.excitations(active_electrons, qubits)\n",
    "\n",
    "print(f\"Total number of excitations = {len(singles) + len(doubles)}\")"
   ]
  },
  {
   "cell_type": "markdown",
   "metadata": {},
   "source": [
    "Adaptive Optimizer\n",
    "- grows an input quantum circuit by adding and optimizing gates selected from a user-defined collection of operators\n",
    "- algo first appends all gates provided in the initial operator pool and computes the circuit gradients with respect to the gate parameters.\n",
    "- it retains the gate which has the largest gradient and then optimizes its parameter\n",
    "- the process of growing the circuit can be repeated until the computed gradients converge to zero\n",
    "- use Adaptive Optimizer to perform an ADAPT-VQE simulation and build an adaptive circuit for LiH"
   ]
  },
  {
   "cell_type": "code",
   "execution_count": null,
   "metadata": {},
   "outputs": [],
   "source": [
    "# Step 5: Build operator pool\n",
    "singles_excitations = [qml.SingleExcitation(0.0, x) for x in singles]\n",
    "doubles_excitations = [qml.DoubleExcitation(0.0, x) for x in doubles]\n",
    "operator_pool = doubles_excitations + singles_excitations\n"
   ]
  },
  {
   "cell_type": "code",
   "execution_count": 33,
   "metadata": {},
   "outputs": [],
   "source": [
    "# Step 6: Define Hartree-Fock initial state circuit\n",
    "hf_state = qchem.hf_state(active_electrons, qubits)\n",
    "\n",
    "dev = qml.device(\"default.qubit\", wires=qubits)\n",
    "\n",
    "@qml.qnode(dev)\n",
    "def circuit():\n",
    "    for i in np.nonzero(hf_state)[0]:\n",
    "        qml.PauliX(i)\n",
    "    return qml.expval(H)"
   ]
  },
  {
   "cell_type": "code",
   "execution_count": 34,
   "metadata": {},
   "outputs": [
    {
     "name": "stdout",
     "output_type": "stream",
     "text": [
      "n = 0,  E = -7.86266588 H, Largest Gradient = 0.124\n",
      "0: ──X─╭G²─┤ ╭<𝓗>\n",
      "1: ──X─├G²─┤ ├<𝓗>\n",
      "2: ────│───┤ ├<𝓗>\n",
      "3: ────│───┤ ├<𝓗>\n",
      "4: ────│───┤ ├<𝓗>\n",
      "5: ────│───┤ ├<𝓗>\n",
      "6: ────│───┤ ├<𝓗>\n",
      "7: ────│───┤ ├<𝓗>\n",
      "8: ────├G²─┤ ├<𝓗>\n",
      "9: ────╰G²─┤ ╰<𝓗>\n",
      "\n",
      "n = 3,  E = -7.88038372 H, Largest Gradient = 0.020\n",
      "0: ──X─╭G²─╭G²─╭G²─╭G²─┤ ╭<𝓗>\n",
      "1: ──X─├G²─├G²─├G²─├G²─┤ ├<𝓗>\n",
      "2: ────│───│───├G²─│───┤ ├<𝓗>\n",
      "3: ────│───├G²─│───│───┤ ├<𝓗>\n",
      "4: ────│───│───│───│───┤ ├<𝓗>\n",
      "5: ────│───│───│───│───┤ ├<𝓗>\n",
      "6: ────│───│───│───├G²─┤ ├<𝓗>\n",
      "7: ────│───│───│───╰G²─┤ ├<𝓗>\n",
      "8: ────├G²─╰G²─│───────┤ ├<𝓗>\n",
      "9: ────╰G²─────╰G²─────┤ ╰<𝓗>\n",
      "\n",
      "n = 6,  E = -7.88189085 H, Largest Gradient = 0.006\n",
      "0: ──X─╭G²─╭G²─╭G²─╭G²─╭G²─╭G²─╭G²─┤ ╭<𝓗>\n",
      "1: ──X─├G²─├G²─├G²─├G²─├G²─├G²─├G²─┤ ├<𝓗>\n",
      "2: ────│───│───├G²─│───│───├G²─├G²─┤ ├<𝓗>\n",
      "3: ────│───├G²─│───│───│───╰G²─│───┤ ├<𝓗>\n",
      "4: ────│───│───│───│───├G²─────│───┤ ├<𝓗>\n",
      "5: ────│───│───│───│───╰G²─────│───┤ ├<𝓗>\n",
      "6: ────│───│───│───├G²─────────│───┤ ├<𝓗>\n",
      "7: ────│───│───│───╰G²─────────│───┤ ├<𝓗>\n",
      "8: ────├G²─╰G²─│───────────────│───┤ ├<𝓗>\n",
      "9: ────╰G²─────╰G²─────────────╰G²─┤ ╰<𝓗>\n",
      "\n",
      "n = 9,  E = -7.88199765 H, Largest Gradient = 0.005\n",
      "0: ──X─╭G²─╭G²─╭G²─╭G²─╭G²─╭G²─╭G²─╭G²─╭G²─╭G─┤ ╭<𝓗>\n",
      "1: ──X─├G²─├G²─├G²─├G²─├G²─├G²─├G²─├G²─├G²─│──┤ ├<𝓗>\n",
      "2: ────│───│───├G²─│───│───├G²─├G²─│───│───╰G─┤ ├<𝓗>\n",
      "3: ────│───├G²─│───│───│───╰G²─│───│───├G²────┤ ├<𝓗>\n",
      "4: ────│───│───│───│───├G²─────│───│───│──────┤ ├<𝓗>\n",
      "5: ────│───│───│───│───╰G²─────│───│───│──────┤ ├<𝓗>\n",
      "6: ────│───│───│───├G²─────────│───│───│──────┤ ├<𝓗>\n",
      "7: ────│───│───│───╰G²─────────│───│───│──────┤ ├<𝓗>\n",
      "8: ────├G²─╰G²─│───────────────│───├G²─╰G²────┤ ├<𝓗>\n",
      "9: ────╰G²─────╰G²─────────────╰G²─╰G²────────┤ ╰<𝓗>\n",
      "\n",
      "n = 12,  E = -7.88217788 H, Largest Gradient = 0.003\n",
      "0: ──X─╭G²─╭G²─╭G²─╭G²─╭G²─╭G²─╭G²─╭G²─╭G²─╭G────╭G²─╭G─┤ ╭<𝓗>\n",
      "1: ──X─├G²─├G²─├G²─├G²─├G²─├G²─├G²─├G²─├G²─│──╭G─├G²─│──┤ ├<𝓗>\n",
      "2: ────│───│───├G²─│───│───├G²─├G²─│───│───╰G─│──├G²─╰G─┤ ├<𝓗>\n",
      "3: ────│───├G²─│───│───│───╰G²─│───│───├G²────╰G─╰G²────┤ ├<𝓗>\n",
      "4: ────│───│───│───│───├G²─────│───│───│────────────────┤ ├<𝓗>\n",
      "5: ────│───│───│───│───╰G²─────│───│───│────────────────┤ ├<𝓗>\n",
      "6: ────│───│───│───├G²─────────│───│───│────────────────┤ ├<𝓗>\n",
      "7: ────│───│───│───╰G²─────────│───│───│────────────────┤ ├<𝓗>\n",
      "8: ────├G²─╰G²─│───────────────│───├G²─╰G²──────────────┤ ├<𝓗>\n",
      "9: ────╰G²─────╰G²─────────────╰G²─╰G²──────────────────┤ ╰<𝓗>\n",
      "\n",
      "n = 15,  E = -7.88226618 H, Largest Gradient = 0.003\n",
      "0: ──X─╭G²─╭G²─╭G²─╭G²─╭G²─╭G²─╭G²─╭G²─╭G²─╭G────╭G²─╭G─╭G²────╭G²─┤ ╭<𝓗>\n",
      "1: ──X─├G²─├G²─├G²─├G²─├G²─├G²─├G²─├G²─├G²─│──╭G─├G²─│──├G²─╭G─├G²─┤ ├<𝓗>\n",
      "2: ────│───│───├G²─│───│───├G²─├G²─│───│───╰G─│──├G²─╰G─├G²─│──│───┤ ├<𝓗>\n",
      "3: ────│───├G²─│───│───│───╰G²─│───│───├G²────╰G─╰G²────│───╰G─├G²─┤ ├<𝓗>\n",
      "4: ────│───│───│───│───├G²─────│───│───│────────────────│──────│───┤ ├<𝓗>\n",
      "5: ────│───│───│───│───╰G²─────│───│───│────────────────│──────│───┤ ├<𝓗>\n",
      "6: ────│───│───│───├G²─────────│───│───│────────────────│──────│───┤ ├<𝓗>\n",
      "7: ────│───│───│───╰G²─────────│───│───│────────────────│──────│───┤ ├<𝓗>\n",
      "8: ────├G²─╰G²─│───────────────│───├G²─╰G²──────────────│──────╰G²─┤ ├<𝓗>\n",
      "9: ────╰G²─────╰G²─────────────╰G²─╰G²──────────────────╰G²────────┤ ╰<𝓗>\n",
      "\n"
     ]
    }
   ],
   "source": [
    "\n",
    "# Step 7: Adaptive optimizer\n",
    "opt = qml.optimize.AdaptiveOptimizer()\n",
    "\n",
    "for i in range(len(operator_pool)):\n",
    "    circuit, energy, gradient = opt.step_and_cost(circuit, operator_pool)\n",
    "    \n",
    "    if i % 3 == 0:\n",
    "        print(f\"n = {i},  E = {energy:.8f} H, Largest Gradient = {gradient:.3f}\")\n",
    "        print(qml.draw(circuit, decimals=None)())\n",
    "        print()\n",
    "        \n",
    "    if gradient < 3e-3:\n",
    "        break"
   ]
  },
  {
   "cell_type": "code",
   "execution_count": null,
   "metadata": {},
   "outputs": [],
   "source": []
  },
  {
   "cell_type": "code",
   "execution_count": null,
   "metadata": {},
   "outputs": [],
   "source": []
  }
 ],
 "metadata": {
  "kernelspec": {
   "display_name": "quantum",
   "language": "python",
   "name": "python3"
  },
  "language_info": {
   "codemirror_mode": {
    "name": "ipython",
    "version": 3
   },
   "file_extension": ".py",
   "mimetype": "text/x-python",
   "name": "python",
   "nbconvert_exporter": "python",
   "pygments_lexer": "ipython3",
   "version": "3.11.12"
  }
 },
 "nbformat": 4,
 "nbformat_minor": 2
}
